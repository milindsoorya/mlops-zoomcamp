{
 "cells": [
  {
   "cell_type": "code",
   "execution_count": 1,
   "id": "7f5f171b-b2c6-48e9-82e0-03634b8fede0",
   "metadata": {},
   "outputs": [],
   "source": [
    "import pandas as pd\n",
    "import seaborn as sns\n",
    "import matplotlib.pyplot as plt"
   ]
  },
  {
   "cell_type": "code",
   "execution_count": 12,
   "id": "72d9bd5b-fb65-49aa-8da1-055cd70dc0eb",
   "metadata": {},
   "outputs": [],
   "source": [
    "import pickle"
   ]
  },
  {
   "cell_type": "code",
   "execution_count": 2,
   "id": "51cf96e6-afbe-4a5b-9c8b-4d8740d72d4e",
   "metadata": {},
   "outputs": [],
   "source": [
    "from sklearn.feature_extraction import DictVectorizer\n",
    "from sklearn.linear_model import LinearRegression\n",
    "from sklearn.linear_model import Lasso\n",
    "from sklearn.linear_model import Ridge\n",
    "\n",
    "from sklearn.metrics import mean_squared_error"
   ]
  },
  {
   "cell_type": "code",
   "execution_count": 3,
   "id": "751605b0-b820-40e8-ae99-f5afbcd9d240",
   "metadata": {},
   "outputs": [],
   "source": [
    "def read_dataframe(filename):\n",
    "    df = pd.read_parquet(filename)\n",
    "    \n",
    "    # Changing to duration in minutes\n",
    "    df['duration'] = df.lpep_dropoff_datetime - df.lpep_pickup_datetime\n",
    "    df.duration = df.duration.apply(lambda td: td.total_seconds() / 60)\n",
    "    \n",
    "    df = df[(df.duration >= 1) & (df.duration <= 60)]\n",
    "    \n",
    "    categorical = ['PULocationID', 'DOLocationID']\n",
    "    \n",
    "    df[categorical] = df[categorical].astype(str)\n",
    "    \n",
    "    return df"
   ]
  },
  {
   "cell_type": "code",
   "execution_count": 4,
   "id": "33ca97fc-fe43-4380-9a26-cfdafeee38cd",
   "metadata": {},
   "outputs": [],
   "source": [
    "df_train = read_dataframe(\"./data/green_tripdata_2021-01.parquet\")\n",
    "df_val = read_dataframe(\"./data/green_tripdata_2021-02.parquet\")"
   ]
  },
  {
   "cell_type": "code",
   "execution_count": 5,
   "id": "3dc59f41-0a3f-4f9f-b846-43d5f9e4154b",
   "metadata": {},
   "outputs": [
    {
     "data": {
      "text/plain": [
       "(73908, 61921)"
      ]
     },
     "execution_count": 5,
     "metadata": {},
     "output_type": "execute_result"
    }
   ],
   "source": [
    "len(df_train), len(df_val)"
   ]
  },
  {
   "cell_type": "code",
   "execution_count": 6,
   "id": "35fd46d4-878d-403a-9987-14f4bd685d7c",
   "metadata": {},
   "outputs": [],
   "source": [
    "df_train['PU_DO'] = df_train['PULocationID'] + '-' + df_train['DOLocationID']\n",
    "df_val['PU_DO'] = df_val['PULocationID'] + '-' + df_val['DOLocationID'] "
   ]
  },
  {
   "cell_type": "code",
   "execution_count": 7,
   "id": "8cd52715-2b4c-4e1c-b31e-35a2b455a485",
   "metadata": {},
   "outputs": [],
   "source": [
    "# categorical = ['PULocationID', 'DOLocationID']\n",
    "categorical = ['PU_DO']\n",
    "numerical = ['trip_distance']\n",
    "\n",
    "dv = DictVectorizer()\n",
    "\n",
    "train_dicts = df_train[categorical + numerical].to_dict(orient='records')\n",
    "X_train = dv.fit_transform(train_dicts)\n",
    "\n",
    "val_dicts = df_val[categorical + numerical].to_dict(orient='records')\n",
    "X_val = dv.transform(val_dicts)"
   ]
  },
  {
   "cell_type": "code",
   "execution_count": 8,
   "id": "643a49bc-b595-476f-8b11-8434a35b6d64",
   "metadata": {},
   "outputs": [],
   "source": [
    "target = 'duration'\n",
    "y_train = df_train[target].values\n",
    "y_val = df_val[target].values"
   ]
  },
  {
   "cell_type": "markdown",
   "id": "cee76500-790f-4c45-9c5a-50bebc21025b",
   "metadata": {},
   "source": [
    "## Training - Using Linear Regression"
   ]
  },
  {
   "cell_type": "code",
   "execution_count": 9,
   "id": "54d2456d-720b-4c5d-a672-5a0a5bb42616",
   "metadata": {},
   "outputs": [
    {
     "data": {
      "text/plain": [
       "7.479560557870074"
      ]
     },
     "execution_count": 9,
     "metadata": {},
     "output_type": "execute_result"
    }
   ],
   "source": [
    "lr = LinearRegression()\n",
    "lr.fit(X_train, y_train)\n",
    "\n",
    "y_pred = lr.predict(X_val)\n",
    "\n",
    "mean_squared_error(y_val, y_pred, squared=False)"
   ]
  },
  {
   "cell_type": "markdown",
   "id": "5d0c1d8c-26d3-4fcd-96cc-2eabfd1c04ec",
   "metadata": {},
   "source": [
    "## Training - Using Lasso Regression"
   ]
  },
  {
   "cell_type": "code",
   "execution_count": 10,
   "id": "75dc9718-1968-400b-9b90-e7c97e32641e",
   "metadata": {},
   "outputs": [
    {
     "data": {
      "text/plain": [
       "12.212583224318818"
      ]
     },
     "execution_count": 10,
     "metadata": {},
     "output_type": "execute_result"
    }
   ],
   "source": [
    "lr = Lasso()\n",
    "lr.fit(X_train, y_train)\n",
    "\n",
    "y_pred = lr.predict(X_val)\n",
    "\n",
    "mean_squared_error(y_val, y_pred, squared=False)"
   ]
  },
  {
   "cell_type": "code",
   "execution_count": 11,
   "id": "a796c68d-1c81-4c8e-8605-8bdde51348f7",
   "metadata": {},
   "outputs": [
    {
     "data": {
      "text/plain": [
       "11.34256557347287"
      ]
     },
     "execution_count": 11,
     "metadata": {},
     "output_type": "execute_result"
    }
   ],
   "source": [
    "lr = Ridge(alpha=0.0001)\n",
    "lr.fit(X_train, y_train)\n",
    "\n",
    "y_pred = lr.predict(X_val)\n",
    "\n",
    "mean_squared_error(y_val, y_pred, squared=False)"
   ]
  },
  {
   "cell_type": "code",
   "execution_count": null,
   "id": "81ee4969-0c42-498a-a2ef-23e01b60662d",
   "metadata": {},
   "outputs": [],
   "source": []
  }
 ],
 "metadata": {
  "kernelspec": {
   "display_name": "Python 3 (ipykernel)",
   "language": "python",
   "name": "python3"
  },
  "language_info": {
   "codemirror_mode": {
    "name": "ipython",
    "version": 3
   },
   "file_extension": ".py",
   "mimetype": "text/x-python",
   "name": "python",
   "nbconvert_exporter": "python",
   "pygments_lexer": "ipython3",
   "version": "3.9.12"
  }
 },
 "nbformat": 4,
 "nbformat_minor": 5
}
